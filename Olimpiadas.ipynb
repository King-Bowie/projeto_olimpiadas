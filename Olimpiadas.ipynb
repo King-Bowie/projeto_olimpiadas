{
  "nbformat": 4,
  "nbformat_minor": 0,
  "metadata": {
    "colab": {
      "name": "Olimpiadas.ipynb",
      "provenance": [],
      "authorship_tag": "ABX9TyOEk2DG/6Mfue6e+OgLkmH4",
      "include_colab_link": true
    },
    "kernelspec": {
      "name": "python3",
      "display_name": "Python 3"
    },
    "language_info": {
      "name": "python"
    }
  },
  "cells": [
    {
      "cell_type": "markdown",
      "metadata": {
        "id": "view-in-github",
        "colab_type": "text"
      },
      "source": [
        "<a href=\"https://colab.research.google.com/github/King-Bowie/projeto_olimpiadas/blob/main/Olimpiadas.ipynb\" target=\"_parent\"><img src=\"https://colab.research.google.com/assets/colab-badge.svg\" alt=\"Open In Colab\"/></a>"
      ]
    },
    {
      "cell_type": "markdown",
      "metadata": {
        "id": "auLpIu-S4DLC"
      },
      "source": [
        "#Olá a todes,\n",
        "<h3>Neste projeto estamos analisando e explorando dados das olimpíadas de 1896 até 2016<h3>\n",
        "\n",
        "<h5> Estes dados estão disponíveis em:</h5>\n",
        "<a href=\"https://www.kaggle.com/heesoo37/120-years-of-olympic-history-athletes-and-results\"> Kaggle - 120 years of Olympic history: athletes and results </a>"
      ]
    },
    {
      "cell_type": "code",
      "metadata": {
        "colab": {
          "base_uri": "https://localhost:8080/",
          "height": 419
        },
        "id": "gDnxR6ydzoGz",
        "outputId": "cfc5618a-ba69-4afb-997a-4a2dc368d4cf"
      },
      "source": [
        "import pandas as pd\n",
        "import seaborn as sns\n",
        "import numpy as np\n",
        "import matplotlib.pyplot as plt\n",
        "\n",
        "atletas = pd.read_csv('athlete_events.csv')\n",
        "atletas"
      ],
      "execution_count": 28,
      "outputs": [
        {
          "output_type": "execute_result",
          "data": {
            "text/html": [
              "<div>\n",
              "<style scoped>\n",
              "    .dataframe tbody tr th:only-of-type {\n",
              "        vertical-align: middle;\n",
              "    }\n",
              "\n",
              "    .dataframe tbody tr th {\n",
              "        vertical-align: top;\n",
              "    }\n",
              "\n",
              "    .dataframe thead th {\n",
              "        text-align: right;\n",
              "    }\n",
              "</style>\n",
              "<table border=\"1\" class=\"dataframe\">\n",
              "  <thead>\n",
              "    <tr style=\"text-align: right;\">\n",
              "      <th></th>\n",
              "      <th>ID</th>\n",
              "      <th>Name</th>\n",
              "      <th>Sex</th>\n",
              "      <th>Age</th>\n",
              "      <th>Height</th>\n",
              "      <th>Weight</th>\n",
              "      <th>Team</th>\n",
              "      <th>NOC</th>\n",
              "      <th>Games</th>\n",
              "      <th>Year</th>\n",
              "      <th>Season</th>\n",
              "      <th>City</th>\n",
              "      <th>Sport</th>\n",
              "      <th>Event</th>\n",
              "      <th>Medal</th>\n",
              "    </tr>\n",
              "  </thead>\n",
              "  <tbody>\n",
              "    <tr>\n",
              "      <th>0</th>\n",
              "      <td>1</td>\n",
              "      <td>A Dijiang</td>\n",
              "      <td>M</td>\n",
              "      <td>24.0</td>\n",
              "      <td>180.0</td>\n",
              "      <td>80.0</td>\n",
              "      <td>China</td>\n",
              "      <td>CHN</td>\n",
              "      <td>1992 Summer</td>\n",
              "      <td>1992</td>\n",
              "      <td>Summer</td>\n",
              "      <td>Barcelona</td>\n",
              "      <td>Basketball</td>\n",
              "      <td>Basketball Men's Basketball</td>\n",
              "      <td>NaN</td>\n",
              "    </tr>\n",
              "    <tr>\n",
              "      <th>1</th>\n",
              "      <td>2</td>\n",
              "      <td>A Lamusi</td>\n",
              "      <td>M</td>\n",
              "      <td>23.0</td>\n",
              "      <td>170.0</td>\n",
              "      <td>60.0</td>\n",
              "      <td>China</td>\n",
              "      <td>CHN</td>\n",
              "      <td>2012 Summer</td>\n",
              "      <td>2012</td>\n",
              "      <td>Summer</td>\n",
              "      <td>London</td>\n",
              "      <td>Judo</td>\n",
              "      <td>Judo Men's Extra-Lightweight</td>\n",
              "      <td>NaN</td>\n",
              "    </tr>\n",
              "    <tr>\n",
              "      <th>2</th>\n",
              "      <td>3</td>\n",
              "      <td>Gunnar Nielsen Aaby</td>\n",
              "      <td>M</td>\n",
              "      <td>24.0</td>\n",
              "      <td>NaN</td>\n",
              "      <td>NaN</td>\n",
              "      <td>Denmark</td>\n",
              "      <td>DEN</td>\n",
              "      <td>1920 Summer</td>\n",
              "      <td>1920</td>\n",
              "      <td>Summer</td>\n",
              "      <td>Antwerpen</td>\n",
              "      <td>Football</td>\n",
              "      <td>Football Men's Football</td>\n",
              "      <td>NaN</td>\n",
              "    </tr>\n",
              "    <tr>\n",
              "      <th>3</th>\n",
              "      <td>4</td>\n",
              "      <td>Edgar Lindenau Aabye</td>\n",
              "      <td>M</td>\n",
              "      <td>34.0</td>\n",
              "      <td>NaN</td>\n",
              "      <td>NaN</td>\n",
              "      <td>Denmark/Sweden</td>\n",
              "      <td>DEN</td>\n",
              "      <td>1900 Summer</td>\n",
              "      <td>1900</td>\n",
              "      <td>Summer</td>\n",
              "      <td>Paris</td>\n",
              "      <td>Tug-Of-War</td>\n",
              "      <td>Tug-Of-War Men's Tug-Of-War</td>\n",
              "      <td>Gold</td>\n",
              "    </tr>\n",
              "    <tr>\n",
              "      <th>4</th>\n",
              "      <td>5</td>\n",
              "      <td>Christine Jacoba Aaftink</td>\n",
              "      <td>F</td>\n",
              "      <td>21.0</td>\n",
              "      <td>185.0</td>\n",
              "      <td>82.0</td>\n",
              "      <td>Netherlands</td>\n",
              "      <td>NED</td>\n",
              "      <td>1988 Winter</td>\n",
              "      <td>1988</td>\n",
              "      <td>Winter</td>\n",
              "      <td>Calgary</td>\n",
              "      <td>Speed Skating</td>\n",
              "      <td>Speed Skating Women's 500 metres</td>\n",
              "      <td>NaN</td>\n",
              "    </tr>\n",
              "    <tr>\n",
              "      <th>...</th>\n",
              "      <td>...</td>\n",
              "      <td>...</td>\n",
              "      <td>...</td>\n",
              "      <td>...</td>\n",
              "      <td>...</td>\n",
              "      <td>...</td>\n",
              "      <td>...</td>\n",
              "      <td>...</td>\n",
              "      <td>...</td>\n",
              "      <td>...</td>\n",
              "      <td>...</td>\n",
              "      <td>...</td>\n",
              "      <td>...</td>\n",
              "      <td>...</td>\n",
              "      <td>...</td>\n",
              "    </tr>\n",
              "    <tr>\n",
              "      <th>271111</th>\n",
              "      <td>135569</td>\n",
              "      <td>Andrzej ya</td>\n",
              "      <td>M</td>\n",
              "      <td>29.0</td>\n",
              "      <td>179.0</td>\n",
              "      <td>89.0</td>\n",
              "      <td>Poland-1</td>\n",
              "      <td>POL</td>\n",
              "      <td>1976 Winter</td>\n",
              "      <td>1976</td>\n",
              "      <td>Winter</td>\n",
              "      <td>Innsbruck</td>\n",
              "      <td>Luge</td>\n",
              "      <td>Luge Mixed (Men)'s Doubles</td>\n",
              "      <td>NaN</td>\n",
              "    </tr>\n",
              "    <tr>\n",
              "      <th>271112</th>\n",
              "      <td>135570</td>\n",
              "      <td>Piotr ya</td>\n",
              "      <td>M</td>\n",
              "      <td>27.0</td>\n",
              "      <td>176.0</td>\n",
              "      <td>59.0</td>\n",
              "      <td>Poland</td>\n",
              "      <td>POL</td>\n",
              "      <td>2014 Winter</td>\n",
              "      <td>2014</td>\n",
              "      <td>Winter</td>\n",
              "      <td>Sochi</td>\n",
              "      <td>Ski Jumping</td>\n",
              "      <td>Ski Jumping Men's Large Hill, Individual</td>\n",
              "      <td>NaN</td>\n",
              "    </tr>\n",
              "    <tr>\n",
              "      <th>271113</th>\n",
              "      <td>135570</td>\n",
              "      <td>Piotr ya</td>\n",
              "      <td>M</td>\n",
              "      <td>27.0</td>\n",
              "      <td>176.0</td>\n",
              "      <td>59.0</td>\n",
              "      <td>Poland</td>\n",
              "      <td>POL</td>\n",
              "      <td>2014 Winter</td>\n",
              "      <td>2014</td>\n",
              "      <td>Winter</td>\n",
              "      <td>Sochi</td>\n",
              "      <td>Ski Jumping</td>\n",
              "      <td>Ski Jumping Men's Large Hill, Team</td>\n",
              "      <td>NaN</td>\n",
              "    </tr>\n",
              "    <tr>\n",
              "      <th>271114</th>\n",
              "      <td>135571</td>\n",
              "      <td>Tomasz Ireneusz ya</td>\n",
              "      <td>M</td>\n",
              "      <td>30.0</td>\n",
              "      <td>185.0</td>\n",
              "      <td>96.0</td>\n",
              "      <td>Poland</td>\n",
              "      <td>POL</td>\n",
              "      <td>1998 Winter</td>\n",
              "      <td>1998</td>\n",
              "      <td>Winter</td>\n",
              "      <td>Nagano</td>\n",
              "      <td>Bobsleigh</td>\n",
              "      <td>Bobsleigh Men's Four</td>\n",
              "      <td>NaN</td>\n",
              "    </tr>\n",
              "    <tr>\n",
              "      <th>271115</th>\n",
              "      <td>135571</td>\n",
              "      <td>Tomasz Ireneusz ya</td>\n",
              "      <td>M</td>\n",
              "      <td>34.0</td>\n",
              "      <td>185.0</td>\n",
              "      <td>96.0</td>\n",
              "      <td>Poland</td>\n",
              "      <td>POL</td>\n",
              "      <td>2002 Winter</td>\n",
              "      <td>2002</td>\n",
              "      <td>Winter</td>\n",
              "      <td>Salt Lake City</td>\n",
              "      <td>Bobsleigh</td>\n",
              "      <td>Bobsleigh Men's Four</td>\n",
              "      <td>NaN</td>\n",
              "    </tr>\n",
              "  </tbody>\n",
              "</table>\n",
              "<p>271116 rows × 15 columns</p>\n",
              "</div>"
            ],
            "text/plain": [
              "            ID  ... Medal\n",
              "0            1  ...   NaN\n",
              "1            2  ...   NaN\n",
              "2            3  ...   NaN\n",
              "3            4  ...  Gold\n",
              "4            5  ...   NaN\n",
              "...        ...  ...   ...\n",
              "271111  135569  ...   NaN\n",
              "271112  135570  ...   NaN\n",
              "271113  135570  ...   NaN\n",
              "271114  135571  ...   NaN\n",
              "271115  135571  ...   NaN\n",
              "\n",
              "[271116 rows x 15 columns]"
            ]
          },
          "metadata": {
            "tags": []
          },
          "execution_count": 28
        }
      ]
    },
    {
      "cell_type": "code",
      "metadata": {
        "colab": {
          "base_uri": "https://localhost:8080/",
          "height": 297
        },
        "id": "ECAStsb85jlx",
        "outputId": "ff0638f0-8383-4769-a29b-c2361609257d"
      },
      "source": [
        "atletas.describe()"
      ],
      "execution_count": 2,
      "outputs": [
        {
          "output_type": "execute_result",
          "data": {
            "text/html": [
              "<div>\n",
              "<style scoped>\n",
              "    .dataframe tbody tr th:only-of-type {\n",
              "        vertical-align: middle;\n",
              "    }\n",
              "\n",
              "    .dataframe tbody tr th {\n",
              "        vertical-align: top;\n",
              "    }\n",
              "\n",
              "    .dataframe thead th {\n",
              "        text-align: right;\n",
              "    }\n",
              "</style>\n",
              "<table border=\"1\" class=\"dataframe\">\n",
              "  <thead>\n",
              "    <tr style=\"text-align: right;\">\n",
              "      <th></th>\n",
              "      <th>ID</th>\n",
              "      <th>Age</th>\n",
              "      <th>Height</th>\n",
              "      <th>Weight</th>\n",
              "      <th>Year</th>\n",
              "    </tr>\n",
              "  </thead>\n",
              "  <tbody>\n",
              "    <tr>\n",
              "      <th>count</th>\n",
              "      <td>271116.000000</td>\n",
              "      <td>261642.000000</td>\n",
              "      <td>210945.000000</td>\n",
              "      <td>208241.000000</td>\n",
              "      <td>271116.000000</td>\n",
              "    </tr>\n",
              "    <tr>\n",
              "      <th>mean</th>\n",
              "      <td>68248.954396</td>\n",
              "      <td>25.556898</td>\n",
              "      <td>175.338970</td>\n",
              "      <td>70.702393</td>\n",
              "      <td>1978.378480</td>\n",
              "    </tr>\n",
              "    <tr>\n",
              "      <th>std</th>\n",
              "      <td>39022.286345</td>\n",
              "      <td>6.393561</td>\n",
              "      <td>10.518462</td>\n",
              "      <td>14.348020</td>\n",
              "      <td>29.877632</td>\n",
              "    </tr>\n",
              "    <tr>\n",
              "      <th>min</th>\n",
              "      <td>1.000000</td>\n",
              "      <td>10.000000</td>\n",
              "      <td>127.000000</td>\n",
              "      <td>25.000000</td>\n",
              "      <td>1896.000000</td>\n",
              "    </tr>\n",
              "    <tr>\n",
              "      <th>25%</th>\n",
              "      <td>34643.000000</td>\n",
              "      <td>21.000000</td>\n",
              "      <td>168.000000</td>\n",
              "      <td>60.000000</td>\n",
              "      <td>1960.000000</td>\n",
              "    </tr>\n",
              "    <tr>\n",
              "      <th>50%</th>\n",
              "      <td>68205.000000</td>\n",
              "      <td>24.000000</td>\n",
              "      <td>175.000000</td>\n",
              "      <td>70.000000</td>\n",
              "      <td>1988.000000</td>\n",
              "    </tr>\n",
              "    <tr>\n",
              "      <th>75%</th>\n",
              "      <td>102097.250000</td>\n",
              "      <td>28.000000</td>\n",
              "      <td>183.000000</td>\n",
              "      <td>79.000000</td>\n",
              "      <td>2002.000000</td>\n",
              "    </tr>\n",
              "    <tr>\n",
              "      <th>max</th>\n",
              "      <td>135571.000000</td>\n",
              "      <td>97.000000</td>\n",
              "      <td>226.000000</td>\n",
              "      <td>214.000000</td>\n",
              "      <td>2016.000000</td>\n",
              "    </tr>\n",
              "  </tbody>\n",
              "</table>\n",
              "</div>"
            ],
            "text/plain": [
              "                  ID            Age  ...         Weight           Year\n",
              "count  271116.000000  261642.000000  ...  208241.000000  271116.000000\n",
              "mean    68248.954396      25.556898  ...      70.702393    1978.378480\n",
              "std     39022.286345       6.393561  ...      14.348020      29.877632\n",
              "min         1.000000      10.000000  ...      25.000000    1896.000000\n",
              "25%     34643.000000      21.000000  ...      60.000000    1960.000000\n",
              "50%     68205.000000      24.000000  ...      70.000000    1988.000000\n",
              "75%    102097.250000      28.000000  ...      79.000000    2002.000000\n",
              "max    135571.000000      97.000000  ...     214.000000    2016.000000\n",
              "\n",
              "[8 rows x 5 columns]"
            ]
          },
          "metadata": {
            "tags": []
          },
          "execution_count": 2
        }
      ]
    },
    {
      "cell_type": "code",
      "metadata": {
        "colab": {
          "base_uri": "https://localhost:8080/"
        },
        "id": "daOFiimF55lW",
        "outputId": "e8caa0bb-1d1e-4b67-c903-a0fcec7a41ec"
      },
      "source": [
        "atletas.info()"
      ],
      "execution_count": 3,
      "outputs": [
        {
          "output_type": "stream",
          "text": [
            "<class 'pandas.core.frame.DataFrame'>\n",
            "RangeIndex: 271116 entries, 0 to 271115\n",
            "Data columns (total 15 columns):\n",
            " #   Column  Non-Null Count   Dtype  \n",
            "---  ------  --------------   -----  \n",
            " 0   ID      271116 non-null  int64  \n",
            " 1   Name    271116 non-null  object \n",
            " 2   Sex     271116 non-null  object \n",
            " 3   Age     261642 non-null  float64\n",
            " 4   Height  210945 non-null  float64\n",
            " 5   Weight  208241 non-null  float64\n",
            " 6   Team    271116 non-null  object \n",
            " 7   NOC     271116 non-null  object \n",
            " 8   Games   271116 non-null  object \n",
            " 9   Year    271116 non-null  int64  \n",
            " 10  Season  271116 non-null  object \n",
            " 11  City    271116 non-null  object \n",
            " 12  Sport   271116 non-null  object \n",
            " 13  Event   271116 non-null  object \n",
            " 14  Medal   39783 non-null   object \n",
            "dtypes: float64(3), int64(2), object(10)\n",
            "memory usage: 31.0+ MB\n"
          ],
          "name": "stdout"
        }
      ]
    },
    {
      "cell_type": "markdown",
      "metadata": {
        "id": "-JtIU7Pg6iUu"
      },
      "source": [
        "###Quantos dados possuimos?"
      ]
    },
    {
      "cell_type": "code",
      "metadata": {
        "colab": {
          "base_uri": "https://localhost:8080/"
        },
        "id": "9bsBt_0v6B-i",
        "outputId": "b28e0b29-3e29-444b-91c9-48523e0eae3c"
      },
      "source": [
        "print(f'No dataset de atletas temos {atletas.shape[0]} registros e {atletas.shape[1]} tipos de variáveis de classificação')"
      ],
      "execution_count": 4,
      "outputs": [
        {
          "output_type": "stream",
          "text": [
            "No dataset de atletas temos 271116 registros e 15 tipos de variáveis de classificação\n"
          ],
          "name": "stdout"
        }
      ]
    },
    {
      "cell_type": "markdown",
      "metadata": {
        "id": "SIVqGvGV78JJ"
      },
      "source": [
        "###Quantos registro existem em cada ano?"
      ]
    },
    {
      "cell_type": "code",
      "metadata": {
        "colab": {
          "base_uri": "https://localhost:8080/"
        },
        "id": "XvvhULze6OuJ",
        "outputId": "08e7aff6-de9a-4ccd-8a7e-ffeef9b106db"
      },
      "source": [
        "atletas['Year'].value_counts()"
      ],
      "execution_count": 5,
      "outputs": [
        {
          "output_type": "execute_result",
          "data": {
            "text/plain": [
              "1992    16413\n",
              "1988    14676\n",
              "2000    13821\n",
              "1996    13780\n",
              "2016    13688\n",
              "2008    13602\n",
              "2004    13443\n",
              "2012    12920\n",
              "1972    11959\n",
              "1984    11588\n",
              "1976    10502\n",
              "1968    10479\n",
              "1964     9480\n",
              "1952     9358\n",
              "1960     9235\n",
              "1980     8937\n",
              "1948     7480\n",
              "1936     7401\n",
              "1956     6434\n",
              "1924     5693\n",
              "1928     5574\n",
              "2014     4891\n",
              "2010     4402\n",
              "2006     4382\n",
              "1920     4292\n",
              "2002     4109\n",
              "1912     4040\n",
              "1998     3605\n",
              "1932     3321\n",
              "1994     3160\n",
              "1908     3101\n",
              "1900     1936\n",
              "1906     1733\n",
              "1904     1301\n",
              "1896      380\n",
              "Name: Year, dtype: int64"
            ]
          },
          "metadata": {
            "tags": []
          },
          "execution_count": 5
        }
      ]
    },
    {
      "cell_type": "code",
      "metadata": {
        "colab": {
          "base_uri": "https://localhost:8080/",
          "height": 386
        },
        "id": "zIsT5ik462oo",
        "outputId": "8f9c0580-7c9a-4063-c7b4-8df4ef90b95c"
      },
      "source": [
        "sns.displot(data = atletas, x=\"Year\", kind='hist',aspect=3)"
      ],
      "execution_count": 6,
      "outputs": [
        {
          "output_type": "execute_result",
          "data": {
            "text/plain": [
              "<seaborn.axisgrid.FacetGrid at 0x7f81d9fcbbd0>"
            ]
          },
          "metadata": {
            "tags": []
          },
          "execution_count": 6
        },
        {
          "output_type": "display_data",
          "data": {
            "image/png": "[encoded data removed]",
            "text/plain": [
              "<Figure size 1080x360 with 1 Axes>"
            ]
          },
          "metadata": {
            "tags": [],
            "needs_background": "light"
          }
        }
      ]
    },
    {
      "cell_type": "markdown",
      "metadata": {
        "id": "6hAr6FUW9gRv"
      },
      "source": [
        "Neste gráfico podemos ver que as edições de 1916, 1940 e 1944 foram canceladas por causa das duas grandes guerras mundiais.\n",
        "\n",
        "Para saber mais:\n",
        "<href>https://www.olimpiadatododia.com.br/curiosidades-olimpicas/252485-olimpiadas-canceladas-2/</href>"
      ]
    },
    {
      "cell_type": "markdown",
      "metadata": {
        "id": "LYp25-mD_5MU"
      },
      "source": [
        "###Qua é o total de participação por genero?"
      ]
    },
    {
      "cell_type": "code",
      "metadata": {
        "colab": {
          "base_uri": "https://localhost:8080/"
        },
        "id": "iI1lI9hT_0YT",
        "outputId": "7b4b490c-b376-478d-b06f-590ebd994a94"
      },
      "source": [
        "atletas['Sex'].value_counts()"
      ],
      "execution_count": 7,
      "outputs": [
        {
          "output_type": "execute_result",
          "data": {
            "text/plain": [
              "M    196594\n",
              "F     74522\n",
              "Name: Sex, dtype: int64"
            ]
          },
          "metadata": {
            "tags": []
          },
          "execution_count": 7
        }
      ]
    },
    {
      "cell_type": "code",
      "metadata": {
        "colab": {
          "base_uri": "https://localhost:8080/",
          "height": 386
        },
        "id": "BefzZ37OAM4k",
        "outputId": "0310a728-61cf-4661-abed-412d1a3b99c7"
      },
      "source": [
        "sns.displot(data=atletas, x=\"Sex\", kind='hist')"
      ],
      "execution_count": 8,
      "outputs": [
        {
          "output_type": "execute_result",
          "data": {
            "text/plain": [
              "<seaborn.axisgrid.FacetGrid at 0x7f81d0b42290>"
            ]
          },
          "metadata": {
            "tags": []
          },
          "execution_count": 8
        },
        {
          "output_type": "display_data",
          "data": {
            "image/png": "[encoded data removed]",
            "text/plain": [
              "<Figure size 360x360 with 1 Axes>"
            ]
          },
          "metadata": {
            "tags": [],
            "needs_background": "light"
          }
        }
      ]
    },
    {
      "cell_type": "markdown",
      "metadata": {
        "id": "NSQAlTzzCu8Y"
      },
      "source": [
        "###Quantos pessoas participaram em cada edição?"
      ]
    },
    {
      "cell_type": "code",
      "metadata": {
        "colab": {
          "base_uri": "https://localhost:8080/"
        },
        "id": "zfM_lOx7EA0l",
        "outputId": "569f5bb1-6c30-489c-8f24-839c4e35a7e2"
      },
      "source": [
        "quantidade_de_jogos = atletas.Games.unique().shape\n",
        "quantidade_de_jogos"
      ],
      "execution_count": 9,
      "outputs": [
        {
          "output_type": "execute_result",
          "data": {
            "text/plain": [
              "(51,)"
            ]
          },
          "metadata": {
            "tags": []
          },
          "execution_count": 9
        }
      ]
    },
    {
      "cell_type": "code",
      "metadata": {
        "colab": {
          "base_uri": "https://localhost:8080/"
        },
        "id": "tx5dVnXnAXCu",
        "outputId": "ab12138b-db6d-4a76-8cba-8c59f38f504b"
      },
      "source": [
        "total_por_edicao =  atletas.Games.value_counts()\n",
        "total_por_edicao"
      ],
      "execution_count": 16,
      "outputs": [
        {
          "output_type": "execute_result",
          "data": {
            "text/plain": [
              "2000 Summer    13821\n",
              "1996 Summer    13780\n",
              "2016 Summer    13688\n",
              "2008 Summer    13602\n",
              "2004 Summer    13443\n",
              "1992 Summer    12977\n",
              "2012 Summer    12920\n",
              "1988 Summer    12037\n",
              "1972 Summer    10304\n",
              "1984 Summer     9454\n",
              "1976 Summer     8641\n",
              "1968 Summer     8588\n",
              "1952 Summer     8270\n",
              "1960 Summer     8119\n",
              "1964 Summer     7702\n",
              "1980 Summer     7191\n",
              "1936 Summer     6506\n",
              "1948 Summer     6405\n",
              "1924 Summer     5233\n",
              "1956 Summer     5127\n",
              "1928 Summer     4992\n",
              "2014 Winter     4891\n",
              "2010 Winter     4402\n",
              "2006 Winter     4382\n",
              "1920 Summer     4292\n",
              "2002 Winter     4109\n",
              "1912 Summer     4040\n",
              "1998 Winter     3605\n",
              "1992 Winter     3436\n",
              "1994 Winter     3160\n",
              "1908 Summer     3101\n",
              "1932 Summer     2969\n",
              "1988 Winter     2639\n",
              "1984 Winter     2134\n",
              "1900 Summer     1936\n",
              "1968 Winter     1891\n",
              "1976 Winter     1861\n",
              "1964 Winter     1778\n",
              "1980 Winter     1746\n",
              "1906 Summer     1733\n",
              "1972 Winter     1655\n",
              "1956 Winter     1307\n",
              "1904 Summer     1301\n",
              "1960 Winter     1116\n",
              "1952 Winter     1088\n",
              "1948 Winter     1075\n",
              "1936 Winter      895\n",
              "1928 Winter      582\n",
              "1924 Winter      460\n",
              "1896 Summer      380\n",
              "1932 Winter      352\n",
              "Name: Games, dtype: int64"
            ]
          },
          "metadata": {
            "tags": []
          },
          "execution_count": 16
        }
      ]
    },
    {
      "cell_type": "code",
      "metadata": {
        "colab": {
          "base_uri": "https://localhost:8080/"
        },
        "id": "sWnWWlP0FpgA",
        "outputId": "3e2b546e-e4f8-4bbc-9a6d-36be0a949ad6"
      },
      "source": [
        "total_por_edicao = pd.Series(total_por_edicao,index = total_por_edicao.index )\n",
        "total_por_edicao.columns = ['ano','total']\n",
        "total_por_edicao"
      ],
      "execution_count": 17,
      "outputs": [
        {
          "output_type": "execute_result",
          "data": {
            "text/plain": [
              "2000 Summer    13821\n",
              "1996 Summer    13780\n",
              "2016 Summer    13688\n",
              "2008 Summer    13602\n",
              "2004 Summer    13443\n",
              "1992 Summer    12977\n",
              "2012 Summer    12920\n",
              "1988 Summer    12037\n",
              "1972 Summer    10304\n",
              "1984 Summer     9454\n",
              "1976 Summer     8641\n",
              "1968 Summer     8588\n",
              "1952 Summer     8270\n",
              "1960 Summer     8119\n",
              "1964 Summer     7702\n",
              "1980 Summer     7191\n",
              "1936 Summer     6506\n",
              "1948 Summer     6405\n",
              "1924 Summer     5233\n",
              "1956 Summer     5127\n",
              "1928 Summer     4992\n",
              "2014 Winter     4891\n",
              "2010 Winter     4402\n",
              "2006 Winter     4382\n",
              "1920 Summer     4292\n",
              "2002 Winter     4109\n",
              "1912 Summer     4040\n",
              "1998 Winter     3605\n",
              "1992 Winter     3436\n",
              "1994 Winter     3160\n",
              "1908 Summer     3101\n",
              "1932 Summer     2969\n",
              "1988 Winter     2639\n",
              "1984 Winter     2134\n",
              "1900 Summer     1936\n",
              "1968 Winter     1891\n",
              "1976 Winter     1861\n",
              "1964 Winter     1778\n",
              "1980 Winter     1746\n",
              "1906 Summer     1733\n",
              "1972 Winter     1655\n",
              "1956 Winter     1307\n",
              "1904 Summer     1301\n",
              "1960 Winter     1116\n",
              "1952 Winter     1088\n",
              "1948 Winter     1075\n",
              "1936 Winter      895\n",
              "1928 Winter      582\n",
              "1924 Winter      460\n",
              "1896 Summer      380\n",
              "1932 Winter      352\n",
              "Name: Games, dtype: int64"
            ]
          },
          "metadata": {
            "tags": []
          },
          "execution_count": 17
        }
      ]
    },
    {
      "cell_type": "code",
      "metadata": {
        "colab": {
          "base_uri": "https://localhost:8080/",
          "height": 371
        },
        "id": "KNr70GpPBAkP",
        "outputId": "e7495455-ec4a-488b-98db-89f1082dcca4"
      },
      "source": [
        "plt.figure(figsize=(23,5))\n",
        "sns.barplot(data= total_por_edicao,\n",
        "            x= total_por_edicao.index,\n",
        "            y=atletas.Games.value_counts())\n",
        "plt.title(\"Quantidade de pessoas participando das Olimpíadas\", fontsize=14, weight='bold')\n",
        "plt.ylabel(\"Quantidade\")\n",
        "plt.xlabel('Jogos')\n",
        "plt.xticks(rotation=45)\n",
        "plt.show()"
      ],
      "execution_count": 40,
      "outputs": [
        {
          "output_type": "display_data",
          "data": {
            "image/png": "[encoded data removed]",
            "text/plain": [
              "<Figure size 1656x360 with 1 Axes>"
            ]
          },
          "metadata": {
            "tags": [],
            "needs_background": "light"
          }
        }
      ]
    },
    {
      "cell_type": "code",
      "metadata": {
        "id": "IC-olD1-DT-o"
      },
      "source": [
        ""
      ],
      "execution_count": 11,
      "outputs": []
    }
  ]
}